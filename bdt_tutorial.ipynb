{
 "cells": [
  {
   "cell_type": "markdown",
   "metadata": {},
   "source": [
    "# Boosted decision tree tutorial\n",
    "\n",
    "***\n",
    "## Introduction:\n",
    "#### Boosted decision tree code:\n",
    "We'll use the python API for the [XGBoost (eXtreme Gradient Boosting) library](https://github.com/dmlc/xgboost).\n",
    "\n",
    "#### Data:\n",
    "[Atlas](https://home.cern/about/experiments/atlas) hosted a [Kaggle](https://www.kaggle.com/) competition for identifying Higgs to tau tau events, [the Higgs Boson Machine Learning Challenge](https://www.kaggle.com/c/higgs-boson/data). The training data for this event contains 250,000 labeled, simulated Atlas events in csv format described [here](https://www.kaggle.com/c/higgs-boson/data) and [here](https://higgsml.lal.in2p3.fr/files/2014/04/documentation_v1.8.pdf). You can download it youself, or we have a small subset (10k events) in the \"data\" directory in this repository that we use here.\n",
    "\n",
    "#### Data handling:\n",
    "If you don't have [pandas](http://pandas.pydata.org/), you should get pandas. It's an amazing tool for exploring data in Python.\n",
    "***\n",
    "#### Install XGBoost:\n",
    "Assuming you have python, numpy, matplotlib, and pandas installed, you just need to install XGBoost. Detailed installation instructions are [here](https://xgboost.readthedocs.io/en/latest/build.html). Or, just do this (in your terminal):\n",
    "```bash\n",
    "git clone --recursive https://github.com/dmlc/xgboost\n",
    "cd xgboost\n",
    "make\n",
    "```\n",
    "***\n",
    "#### Links:\n",
    "A lot of this was borrowed from other sources. These sources and other good places for information about XGBoost and BDTs in general are here:\n",
    "\n",
    "XGBoost demo: [Example of how to use XGBoost Python Module to run Kaggle Higgs competition](https://github.com/dmlc/xgboost/tree/master/demo/kaggle-higgs)\n",
    "\n",
    "Blog post by phunther: [Winning solution of Kaggle Higgs competition: what a single model can do?](https://no2147483647.wordpress.com/2014/09/17/winning-solution-of-kaggle-higgs-competition-what-a-single-model-can-do/)\n",
    "\n",
    "XGBoost Kaggle Higgs solution: https://github.com/hetong007/higgsml\n",
    "\n",
    "***"
   ]
  },
  {
   "cell_type": "markdown",
   "metadata": {},
   "source": [
    "## Tutorial:"
   ]
  },
  {
   "cell_type": "code",
   "execution_count": 139,
   "metadata": {
    "collapsed": true
   },
   "outputs": [],
   "source": [
    "import pandas as pd\n",
    "import numpy as np\n",
    "import matplotlib.pyplot as plt\n",
    "import xgboost as xgb\n",
    "\n",
    "%matplotlib inline"
   ]
  },
  {
   "cell_type": "markdown",
   "metadata": {},
   "source": [
    "### The data\n",
    "#### Load data:\n",
    "First, load in the data and look at it. We've taken a 10k event subsample of the Kaggle training data. Then we'll put it in the right format for xgboost."
   ]
  },
  {
   "cell_type": "code",
   "execution_count": 3,
   "metadata": {
    "collapsed": true
   },
   "outputs": [],
   "source": [
    "data = pd.read_csv('data/training_10k.csv')"
   ]
  },
  {
   "cell_type": "markdown",
   "metadata": {},
   "source": [
    "Let's see what the data looks like:"
   ]
  },
  {
   "cell_type": "code",
   "execution_count": 134,
   "metadata": {
    "collapsed": false
   },
   "outputs": [
    {
     "name": "stdout",
     "output_type": "stream",
     "text": [
      "Size of data: (10000, 33)\n",
      "Number of events: 10000\n",
      "Number of columns: 33\n",
      "\n",
      "List of features in dataset:\n",
      "EventId\n",
      "DER_mass_MMC\n",
      "DER_mass_transverse_met_lep\n",
      "DER_mass_vis\n",
      "DER_pt_h\n",
      "DER_deltaeta_jet_jet\n",
      "DER_mass_jet_jet\n",
      "DER_prodeta_jet_jet\n",
      "DER_deltar_tau_lep\n",
      "DER_pt_tot\n",
      "DER_sum_pt\n",
      "DER_pt_ratio_lep_tau\n",
      "DER_met_phi_centrality\n",
      "DER_lep_eta_centrality\n",
      "PRI_tau_pt\n",
      "PRI_tau_eta\n",
      "PRI_tau_phi\n",
      "PRI_lep_pt\n",
      "PRI_lep_eta\n",
      "PRI_lep_phi\n",
      "PRI_met\n",
      "PRI_met_phi\n",
      "PRI_met_sumet\n",
      "PRI_jet_num\n",
      "PRI_jet_leading_pt\n",
      "PRI_jet_leading_eta\n",
      "PRI_jet_leading_phi\n",
      "PRI_jet_subleading_pt\n",
      "PRI_jet_subleading_eta\n",
      "PRI_jet_subleading_phi\n",
      "PRI_jet_all_pt\n",
      "Weight\n",
      "Label\n"
     ]
    }
   ],
   "source": [
    "print 'Size of data: {}'.format(data.shape)\n",
    "print 'Number of events: {}'.format(data.shape[0])\n",
    "print 'Number of columns: {}'.format(data.shape[1])\n",
    "\n",
    "print '\\nList of features in dataset:'\n",
    "for col in data.columns:\n",
    "    print col"
   ]
  },
  {
   "cell_type": "markdown",
   "metadata": {},
   "source": [
    "The data set has 10,000 events with 33 columns each. It looks like the first column is an identifier, and shouldn't be used as a feature. The last two columns \"Weight\" and \"Label\", are the weights and labels from the simulation, and also shouldn't be used as features (this information is all contained in the documentation).\n",
    "\n",
    "Now we can look at how many events are signal and background:"
   ]
  },
  {
   "cell_type": "code",
   "execution_count": 149,
   "metadata": {
    "collapsed": false
   },
   "outputs": [
    {
     "name": "stdout",
     "output_type": "stream",
     "text": [
      "Number of signal events: 3372\n",
      "Number of background events: 6628\n",
      "Fraction signal: 0.3372\n"
     ]
    }
   ],
   "source": [
    "# look at column labels --- notice last one is \"Label\" and first is \"EventId\" also \"Weight\"\n",
    "print 'Number of signal events: {}'.format(len(data[data.Label == 's']))\n",
    "print 'Number of background events: {}'.format(len(data[data.Label == 'b']))\n",
    "print 'Fraction signal: {}'.format(len(data[data.Label == 's'])/(float)(len(data[data.Label == 's']) + len(data[data.Label == 'b'])))"
   ]
  },
  {
   "cell_type": "markdown",
   "metadata": {},
   "source": [
    "#### Format data:\n",
    "Now we should get the data into an XGBoost-friendly format. We can create DMatrix objects that will be used to train the BDT model. For now, we'll use all 30 of the features for training.\n",
    "\n",
    "First, we'll sliceup the data into training and testing sets. Here, we take 20% for the test set, which is arbitrary.\n",
    "\n",
    "In this file, all samples are independent and ordered randomly, so we can just grab a chunk. Check out [scikit-learn Cross-validation](http://scikit-learn.org/stable/modules/cross_validation.html) for dividing up samples in a responsible way.\n",
    "\n",
    "We can also change the data type of the \"Label\" column to the pandas type \"category\" for easier use later."
   ]
  },
  {
   "cell_type": "code",
   "execution_count": 141,
   "metadata": {
    "collapsed": false
   },
   "outputs": [],
   "source": [
    "data['Label'] = data.Label.astype('category')"
   ]
  },
  {
   "cell_type": "code",
   "execution_count": 142,
   "metadata": {
    "collapsed": true
   },
   "outputs": [],
   "source": [
    "data_train = data[:8000]\n",
    "data_test = data[8000:]"
   ]
  },
  {
   "cell_type": "markdown",
   "metadata": {},
   "source": [
    "Check to make sure we did it right:"
   ]
  },
  {
   "cell_type": "code",
   "execution_count": 150,
   "metadata": {
    "collapsed": false
   },
   "outputs": [
    {
     "name": "stdout",
     "output_type": "stream",
     "text": [
      "Number of training samples: 8000\n",
      "Number of testing samples: 2000\n",
      "\n",
      "Number of signal events in training set: 2688\n",
      "Number of background events in training set: 5312\n",
      "Fraction signal: 0.336\n"
     ]
    }
   ],
   "source": [
    "print 'Number of training samples: {}'.format(len(data_train))\n",
    "print 'Number of testing samples: {}'.format(len(data_test))\n",
    "\n",
    "print '\\nNumber of signal events in training set: {}'.format(len(data_train[data_train.Label == 's']))\n",
    "print 'Number of background events in training set: {}'.format(len(data_train[data_train.Label == 'b']))\n",
    "print 'Fraction signal: {}'.format(len(data_train[data_train.Label == 's'])/(float)(len(data_train[data_train.Label == 's']) + len(data_train[data_train.Label == 'b'])))"
   ]
  },
  {
   "cell_type": "markdown",
   "metadata": {},
   "source": [
    "The DMatrix object takes as arguments:\n",
    "- data --- the features\n",
    "- label --- 1/0 or true/false (we have to convert our label to bool from string s/b)\n",
    "- missing --- how missing values are represented (here as -999.0)\n",
    "- feature_names --- the names of all of the features (optional)"
   ]
  },
  {
   "cell_type": "code",
   "execution_count": 151,
   "metadata": {
    "collapsed": false
   },
   "outputs": [],
   "source": [
    "feature_names = data.columns[1:-2]  # we skip the first and last two columns because they are the ID, weight, and label\n",
    "train = xgb.DMatrix(data=data_train[feature_names],label=data_train.Label.cat.codes,missing=-999.0,feature_names=feature_names)\n",
    "test = xgb.DMatrix(data=data_test[feature_names],label=data_test.Label.cat.codes,missing=-999.0,feature_names=feature_names)"
   ]
  },
  {
   "cell_type": "markdown",
   "metadata": {},
   "source": [
    "Check if we did it right:"
   ]
  },
  {
   "cell_type": "code",
   "execution_count": 159,
   "metadata": {
    "collapsed": false
   },
   "outputs": [
    {
     "name": "stdout",
     "output_type": "stream",
     "text": [
      "Number of training samples: 8000\n",
      "Number of testing samples: 2000\n",
      "\n",
      "Number of signal events in training set: 2688\n"
     ]
    }
   ],
   "source": [
    "print 'Number of training samples: {}'.format(train.num_row())\n",
    "print 'Number of testing samples: {}'.format(test.num_row())\n",
    "\n",
    "print '\\nNumber of signal events in training set: {}'.format(len(np.where(train.get_label())[0]))"
   ]
  },
  {
   "cell_type": "markdown",
   "metadata": {},
   "source": [
    "## Making the model\n",
    "### Set hyperparameters\n",
    "https://github.com/dmlc/xgboost/blob/master/doc/parameter.md\n",
    "\n",
    "https://www.analyticsvidhya.com/blog/2016/03/complete-guide-parameter-tuning-xgboost-with-codes-python/\n",
    "\n",
    "Make dictionary:"
   ]
  },
  {
   "cell_type": "code",
   "execution_count": 77,
   "metadata": {
    "collapsed": false
   },
   "outputs": [],
   "source": [
    "param = {}\n",
    "# Booster parameters\n",
    "param['eta']              = 0.1 # learning rate\n",
    "param['max_depth']        = 10  # maximum depth of a tree\n",
    "param['subsample']        = 0.8 # fraction of events to train tree on\n",
    "param['colsample_bytree'] = 0.8 # fraction of features to train tree on\n",
    "\n",
    "# Learning task parameters\n",
    "param['objective']   = 'binary:logistic' # objective function\n",
    "#param['eval_metric'] = 'error'          # evaluation metric for cross validation\n",
    "\n",
    "num_trees = 100  # number of trees to make"
   ]
  },
  {
   "cell_type": "markdown",
   "metadata": {},
   "source": [
    "## Now train!"
   ]
  },
  {
   "cell_type": "code",
   "execution_count": 78,
   "metadata": {
    "collapsed": true
   },
   "outputs": [],
   "source": [
    "booster = xgb.train(param,train,num_boost_round=num_trees)"
   ]
  },
  {
   "cell_type": "code",
   "execution_count": 79,
   "metadata": {
    "collapsed": true
   },
   "outputs": [],
   "source": [
    "preds = booster.predict(test)"
   ]
  },
  {
   "cell_type": "code",
   "execution_count": 120,
   "metadata": {
    "collapsed": false
   },
   "outputs": [
    {
     "data": {
      "image/png": "[encoded data removed]",
      "text/plain": [
       "<matplotlib.figure.Figure at 0x7f23c310cc90>"
      ]
     },
     "metadata": {},
     "output_type": "display_data"
    },
    {
     "data": {
      "image/png": "[encoded data removed]",
      "text/plain": [
       "<matplotlib.figure.Figure at 0x7f23c2f5b090>"
      ]
     },
     "metadata": {},
     "output_type": "display_data"
    }
   ],
   "source": [
    "plt.figure();\n",
    "plt.hist(preds,bins=np.linspace(0,1,50),histtype='step',color='green');\n",
    "\n",
    "plt.figure();\n",
    "plt.hist(preds[test.get_label().astype(bool)],bins=np.linspace(0,1,50),histtype='step',color='blue');\n",
    "plt.hist(preds[~(test.get_label().astype(bool))],bins=np.linspace(0,1,50),histtype='step',color='red');"
   ]
  },
  {
   "cell_type": "code",
   "execution_count": 109,
   "metadata": {
    "collapsed": false
   },
   "outputs": [
    {
     "data": {
      "image/png": "[encoded data removed]",
      "text/plain": [
       "<matplotlib.figure.Figure at 0x7f23c388a7d0>"
      ]
     },
     "metadata": {},
     "output_type": "display_data"
    }
   ],
   "source": [
    "xgb.plot_importance(booster,grid=False);"
   ]
  },
  {
   "cell_type": "code",
   "execution_count": 113,
   "metadata": {
    "collapsed": false
   },
   "outputs": [
    {
     "data": {
      "image/png": "[encoded data removed]",
      "text/plain": [
       "<matplotlib.figure.Figure at 0x7f23c2ba1390>"
      ]
     },
     "metadata": {},
     "output_type": "display_data"
    }
   ],
   "source": [
    "plt.figure();\n",
    "plt.hist(data_train.DER_mass_MMC[data_train.Label == 's'],bins=np.linspace(0,800,50),histtype='step',color='blue');\n",
    "plt.hist(data_train.DER_mass_MMC[data_train.Label == 'b'],bins=np.linspace(0,800,50),histtype='step',color='red');"
   ]
  },
  {
   "cell_type": "code",
   "execution_count": null,
   "metadata": {
    "collapsed": false
   },
   "outputs": [],
   "source": []
  },
  {
   "cell_type": "code",
   "execution_count": null,
   "metadata": {
    "collapsed": true
   },
   "outputs": [],
   "source": []
  }
 ],
 "metadata": {
  "kernelspec": {
   "display_name": "Python 2",
   "language": "python",
   "name": "python2"
  },
  "language_info": {
   "codemirror_mode": {
    "name": "ipython",
    "version": 2
   },
   "file_extension": ".py",
   "mimetype": "text/x-python",
   "name": "python",
   "nbconvert_exporter": "python",
   "pygments_lexer": "ipython2",
   "version": "2.7.12"
  }
 },
 "nbformat": 4,
 "nbformat_minor": 1
}
